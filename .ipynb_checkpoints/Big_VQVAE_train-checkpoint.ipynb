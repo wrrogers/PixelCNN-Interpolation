{
 "cells": [
  {
   "cell_type": "code",
   "execution_count": 1,
   "metadata": {},
   "outputs": [
    {
     "name": "stdout",
     "output_type": "stream",
     "text": [
      "The current working directory is: C:\\Users\\william\\GAN Texture\n",
      "\n",
      "Total number of images: 120\n",
      "Images shape and type: (227, 227) <class 'numpy.ndarray'>\n",
      "Categories:\n",
      "\tOHE - 0, NAME - concrete\n",
      "Min and max: 0 and 255\n",
      "Dtype uint8\n",
      "\n"
     ]
    },
    {
     "name": "stderr",
     "output_type": "stream",
     "text": [
      "C:\\Users\\william\\Anaconda3\\envs\\PT1\\lib\\site-packages\\sklearn\\externals\\joblib\\__init__.py:15: DeprecationWarning: sklearn.externals.joblib is deprecated in 0.21 and will be removed in 0.23. Please import this functionality directly from joblib, which can be installed with: pip install joblib. If this warning is raised when loading pickled models, you may need to re-serialize those models with scikit-learn 0.21+.\n",
      "  warnings.warn(msg, category=DeprecationWarning)\n"
     ]
    }
   ],
   "source": [
    "# This Python 3 environment comes with many helpful analytics libraries installed\n",
    "# It is defined by the kaggle/python docker image: https://github.com/kaggle/docker-python\n",
    "# For example, here's several helpful packages to load in \n",
    "import concurrent\n",
    "\n",
    "import numpy as np # linear algebra\n",
    "import pandas as pd # data processing, CSV file I/O (e.g. pd.read_csv)\n",
    "\n",
    "import matplotlib.pyplot as plt\n",
    "import matplotlib.image as mpimg\n",
    "%matplotlib inline\n",
    "import numpy as np\n",
    "import torch\n",
    "from torch import nn, optim\n",
    "from torch import autograd\n",
    "import torch.nn.functional as F\n",
    "from torch.nn import Parameter\n",
    "from torchvision import datasets, transforms\n",
    "from torchvision.utils import save_image\n",
    "from torch.utils.data import Dataset, DataLoader, Subset\n",
    "from PIL import Image, ImageOps, ImageEnhance\n",
    "\n",
    "import cv2\n",
    "import albumentations as A\n",
    "from albumentations.pytorch import ToTensor\n",
    "\n",
    "import glob\n",
    "import xml.etree.ElementTree as ET #for parsing XML\n",
    "import shutil\n",
    "from tqdm import tqdm\n",
    "import time\n",
    "import random\n",
    "from sklearn.feature_extraction.image import extract_patches_2d\n",
    "from skimage.feature import greycomatrix, greycoprops\n",
    "import skopt\n",
    "\n",
    "# Input data files are available in the \"../input/\" directory.\n",
    "# For example, running this (by clicking run or pressing Shift+Enter) will list the files in the input directory\n",
    "\n",
    "import os\n",
    "print(\"The current working directory is:\", os.getcwd())\n",
    "# Any results you write to the current directory are saved as output.\n",
    "\n",
    "from big_vqvae import VQVAE\n",
    "from train_vqvae import train_vqvae_model\n",
    "#from train_vae_gan import train_gan_model\n",
    "from lung_dataset import LungDataset\n",
    "from discriminator import Discriminator"
   ]
  },
  {
   "cell_type": "code",
   "execution_count": 2,
   "metadata": {},
   "outputs": [],
   "source": [
    "img_size    = 64\n",
    "batch_size  = 128\n",
    "n_epochs    = 128"
   ]
  },
  {
   "cell_type": "code",
   "execution_count": 3,
   "metadata": {},
   "outputs": [
    {
     "name": "stdout",
     "output_type": "stream",
     "text": [
      "\n",
      "Total number of images: 120\n",
      "Images shape and type: (227, 227) <class 'numpy.ndarray'>\n",
      "Categories:\n",
      "\tOHE - 0, NAME - concrete\n",
      "Min and max: 0 and 255\n",
      "Dtype uint8\n",
      "\n",
      "\n",
      "... Texture Dataset Intialized with 120 scans\n",
      "The length of the training set is 120\n"
     ]
    }
   ],
   "source": [
    "transform1 = transforms.Compose([transforms.Resize(img_size)])\n",
    "\n",
    "transform2 = transforms.Compose([#transforms.RandomCrop(img_size),\n",
    "                                 transforms.RandomHorizontalFlip(p=0.5),\n",
    "                                 transforms.ToTensor(),\n",
    "                                 transforms.Normalize(mean=[.0544], std =[.93])\n",
    "                                 ])\n",
    "\n",
    "train_set = TextureDataset(init_transform=transform1, batch_transform=transform2)\n",
    "\n",
    "train_loader = DataLoader(train_set,\n",
    "                          shuffle=True, batch_size=batch_size,\n",
    "                          num_workers=0, pin_memory=True)\n",
    "\n",
    "print(\"The length of the training set is\", len(train_set))"
   ]
  },
  {
   "cell_type": "code",
   "execution_count": 4,
   "metadata": {},
   "outputs": [
    {
     "name": "stdout",
     "output_type": "stream",
     "text": [
      "Data shape: (120, 1, 64, 64)\n",
      " Min and max values: 0.00053974247 0.9999072\n"
     ]
    },
    {
     "data": {
      "image/png": "[encoded data removed]",
      "text/plain": [
       "<Figure size 432x288 with 1 Axes>"
      ]
     },
     "metadata": {
      "needs_background": "light"
     },
     "output_type": "display_data"
    }
   ],
   "source": [
    "#label_names = ['cracked', 'banded', 'striped']\n",
    "for ii, data in enumerate(train_loader):\n",
    "    if ii > 0: break\n",
    "    imgs = np.array([np.array(img) for img in data])\n",
    "    print(\"Data shape: {}\".format(imgs.shape))\n",
    "    print(\" Min and max values:\", imgs.min(), imgs.max())\n",
    "    img = imgs[0]\n",
    "    img = np.rollaxis(img, -1)\n",
    "    img = np.rollaxis(img, -1)\n",
    "    plt.imshow(img.squeeze())"
   ]
  },
  {
   "cell_type": "code",
   "execution_count": 5,
   "metadata": {},
   "outputs": [
    {
     "name": "stdout",
     "output_type": "stream",
     "text": [
      "Device: cuda\n"
     ]
    }
   ],
   "source": [
    "device = torch.device(\"cuda\" if torch.cuda.is_available() else \"cpu\")\n",
    "print(\"Device:\", device)"
   ]
  },
  {
   "cell_type": "code",
   "execution_count": 6,
   "metadata": {},
   "outputs": [],
   "source": [
    "params =   {'lr':.0009,\n",
    "            'spectral_first_layer':True,\n",
    "            'spectral_resblock':False,\n",
    "            'spectral_last_layer':True,\n",
    "            'attention_1':True,\n",
    "            'attention_1_size':128,\n",
    "            'attention_2':True,\n",
    "            'attention_2_size':128}"
   ]
  },
  {
   "cell_type": "code",
   "execution_count": 7,
   "metadata": {},
   "outputs": [
    {
     "data": {
      "text/plain": [
       "\"\\nSPACE = [skopt.space.Real(0.0008, 0.008, name='lr', prior='log-uniform'),\\n         skopt.space.Categorical(categories=[True, False], name = 'spectral_first_layer'),\\n         skopt.space.Categorical(categories=[True, False], name = 'spectral_resblock'),\\n         skopt.space.Categorical(categories=[True, False], name = 'spectral_last_layer'),\\n         skopt.space.Categorical(categories=[True, False], name = 'attention_1'),\\n         skopt.space.Categorical(categories=[True, False], name = 'attention_2'),\\n         skopt.space.Integer(32, 256, name='attention_1_size'),\\n         skopt.space.Integer(32, 256, name='attention_2_size'),\\n         ]\\n\""
      ]
     },
     "execution_count": 7,
     "metadata": {},
     "output_type": "execute_result"
    }
   ],
   "source": [
    "'''\n",
    "SPACE = [skopt.space.Real(0.0008, 0.008, name='lr', prior='log-uniform'),\n",
    "         skopt.space.Categorical(categories=[True, False], name = 'spectral_first_layer'),\n",
    "         skopt.space.Categorical(categories=[True, False], name = 'spectral_resblock'),\n",
    "         skopt.space.Categorical(categories=[True, False], name = 'spectral_last_layer'),\n",
    "         skopt.space.Categorical(categories=[True, False], name = 'attention_1'),\n",
    "         skopt.space.Categorical(categories=[True, False], name = 'attention_2'),\n",
    "         skopt.space.Integer(32, 256, name='attention_1_size'),\n",
    "         skopt.space.Integer(32, 256, name='attention_2_size'),\n",
    "         ]\n",
    "'''"
   ]
  },
  {
   "cell_type": "code",
   "execution_count": 8,
   "metadata": {},
   "outputs": [],
   "source": [
    "model = nn.DataParallel(VQVAE(params)).to(device)"
   ]
  },
  {
   "cell_type": "code",
   "execution_count": 9,
   "metadata": {},
   "outputs": [],
   "source": [
    "optimizer = optim.Adam(model.parameters(), lr=params['lr'])"
   ]
  },
  {
   "cell_type": "code",
   "execution_count": 10,
   "metadata": {
    "scrolled": true
   },
   "outputs": [
    {
     "name": "stderr",
     "output_type": "stream",
     "text": [
      "\r",
      "  0%|                                                                                                            | 0/1 [00:00<?, ?it/s]"
     ]
    },
    {
     "name": "stdout",
     "output_type": "stream",
     "text": [
      "-------------------------------------------\n",
      "Encode\n",
      "-------------------------------------------\n",
      "Encoding B: torch.Size([120, 128, 16, 16])\n",
      "Encoding T: torch.Size([120, 128, 16, 16])\n",
      "Encoding T after conv: torch.Size([120, 8, 8, 64])\n"
     ]
    },
    {
     "name": "stderr",
     "output_type": "stream",
     "text": [
      "\r",
      "epoch: 1; mse: 0.17122; latent: 1.207; avg mse: 0.17122; lr: 0.00090:   0%|                                      | 0/1 [00:01<?, ?it/s]"
     ]
    },
    {
     "name": "stdout",
     "output_type": "stream",
     "text": [
      "Encoding T quantized: torch.Size([120, 8, 8, 64])\n",
      "Quantized T rolled: torch.Size([120, 64, 8, 8])\n",
      "Attention input torch.Size([120, 128, 8, 8])\n",
      "Attention input torch.Size([120, 128, 8, 8])\n",
      "Decoding T: torch.Size([120, 64, 16, 16])\n",
      "Cat Dec T and Enc B: torch.Size([120, 192, 16, 16])\n",
      "Attention input torch.Size([120, 128, 16, 16])\n",
      "Attention input torch.Size([120, 128, 16, 16])\n",
      "-------------------------------------------\n",
      "Encode\n",
      "-------------------------------------------\n",
      "Encoding B: torch.Size([25, 128, 16, 16])\n"
     ]
    },
    {
     "name": "stderr",
     "output_type": "stream",
     "text": [
      "epoch: 1; mse: 0.17122; latent: 1.207; avg mse: 0.17122; lr: 0.00090: 100%|██████████████████████████████| 1/1 [00:01<00:00,  1.75s/it]\n"
     ]
    },
    {
     "name": "stdout",
     "output_type": "stream",
     "text": [
      "Encoding T: torch.Size([25, 128, 16, 16])\n",
      "Encoding T after conv: torch.Size([25, 8, 8, 64])\n",
      "Encoding T quantized: torch.Size([25, 8, 8, 64])\n",
      "Quantized T rolled: torch.Size([25, 64, 8, 8])\n",
      "Attention input torch.Size([25, 128, 8, 8])\n",
      "Attention input torch.Size([25, 128, 8, 8])\n",
      "Decoding T: torch.Size([25, 64, 16, 16])\n",
      "Cat Dec T and Enc B: torch.Size([25, 192, 16, 16])\n",
      "Attention input torch.Size([25, 128, 16, 16])\n",
      "Attention input torch.Size([25, 128, 16, 16])\n"
     ]
    },
    {
     "ename": "AttributeError",
     "evalue": "'VQVAE' object has no attribute 'module'",
     "output_type": "error",
     "traceback": [
      "\u001b[1;31m---------------------------------------------------------------------------\u001b[0m",
      "\u001b[1;31mAttributeError\u001b[0m                            Traceback (most recent call last)",
      "\u001b[1;32m<ipython-input-10-9a0a01f2fc54>\u001b[0m in \u001b[0;36m<module>\u001b[1;34m\u001b[0m\n\u001b[0;32m      2\u001b[0m     \u001b[0mloss\u001b[0m \u001b[1;33m=\u001b[0m \u001b[0mtrain_vqvae_model\u001b[0m\u001b[1;33m(\u001b[0m\u001b[0mi\u001b[0m\u001b[1;33m,\u001b[0m \u001b[0mtrain_loader\u001b[0m\u001b[1;33m,\u001b[0m \u001b[0mmodel\u001b[0m\u001b[1;33m,\u001b[0m \u001b[0moptimizer\u001b[0m\u001b[1;33m,\u001b[0m \u001b[0mdevice\u001b[0m\u001b[1;33m)\u001b[0m\u001b[1;33m\u001b[0m\u001b[1;33m\u001b[0m\u001b[0m\n\u001b[0;32m      3\u001b[0m     \u001b[1;31m#print(\"LOSS:\", loss)\u001b[0m\u001b[1;33m\u001b[0m\u001b[1;33m\u001b[0m\u001b[1;33m\u001b[0m\u001b[0m\n\u001b[1;32m----> 4\u001b[1;33m     \u001b[0mtorch\u001b[0m\u001b[1;33m.\u001b[0m\u001b[0msave\u001b[0m\u001b[1;33m(\u001b[0m\u001b[0mmodel\u001b[0m\u001b[1;33m.\u001b[0m\u001b[0mmodule\u001b[0m\u001b[1;33m.\u001b[0m\u001b[0mstate_dict\u001b[0m\u001b[1;33m(\u001b[0m\u001b[1;33m)\u001b[0m\u001b[1;33m,\u001b[0m \u001b[1;34mf'checkpoint/vqvae_{str(i + 1).zfill(3)}.pt'\u001b[0m\u001b[1;33m)\u001b[0m\u001b[1;33m\u001b[0m\u001b[1;33m\u001b[0m\u001b[0m\n\u001b[0m",
      "\u001b[1;32m~\\Anaconda3\\envs\\PT1\\lib\\site-packages\\torch\\nn\\modules\\module.py\u001b[0m in \u001b[0;36m__getattr__\u001b[1;34m(self, name)\u001b[0m\n\u001b[0;32m    574\u001b[0m                 \u001b[1;32mreturn\u001b[0m \u001b[0mmodules\u001b[0m\u001b[1;33m[\u001b[0m\u001b[0mname\u001b[0m\u001b[1;33m]\u001b[0m\u001b[1;33m\u001b[0m\u001b[1;33m\u001b[0m\u001b[0m\n\u001b[0;32m    575\u001b[0m         raise AttributeError(\"'{}' object has no attribute '{}'\".format(\n\u001b[1;32m--> 576\u001b[1;33m             type(self).__name__, name))\n\u001b[0m\u001b[0;32m    577\u001b[0m \u001b[1;33m\u001b[0m\u001b[0m\n\u001b[0;32m    578\u001b[0m     \u001b[1;32mdef\u001b[0m \u001b[0m__setattr__\u001b[0m\u001b[1;33m(\u001b[0m\u001b[0mself\u001b[0m\u001b[1;33m,\u001b[0m \u001b[0mname\u001b[0m\u001b[1;33m,\u001b[0m \u001b[0mvalue\u001b[0m\u001b[1;33m)\u001b[0m\u001b[1;33m:\u001b[0m\u001b[1;33m\u001b[0m\u001b[1;33m\u001b[0m\u001b[0m\n",
      "\u001b[1;31mAttributeError\u001b[0m: 'VQVAE' object has no attribute 'module'"
     ]
    }
   ],
   "source": [
    "for i in range(n_epochs):\n",
    "    loss = train_vqvae_model(i, train_loader, model, optimizer, device)\n",
    "    #print(\"LOSS:\", loss)\n",
    "    torch.save(model.module.state_dict(), f'checkpoint/vqvae_{str(i + 1).zfill(3)}.pt')"
   ]
  },
  {
   "cell_type": "code",
   "execution_count": null,
   "metadata": {},
   "outputs": [],
   "source": []
  }
 ],
 "metadata": {
  "kernelspec": {
   "display_name": "Python 3",
   "language": "python",
   "name": "python3"
  },
  "language_info": {
   "codemirror_mode": {
    "name": "ipython",
    "version": 3
   },
   "file_extension": ".py",
   "mimetype": "text/x-python",
   "name": "python",
   "nbconvert_exporter": "python",
   "pygments_lexer": "ipython3",
   "version": "3.6.4"
  }
 },
 "nbformat": 4,
 "nbformat_minor": 2
}
